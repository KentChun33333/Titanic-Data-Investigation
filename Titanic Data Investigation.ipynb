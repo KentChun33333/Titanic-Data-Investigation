{
 "cells": [
  {
   "cell_type": "markdown",
   "metadata": {},
   "source": [
    "# <center>Titanic Data Investigation</center>\n",
    "*<center>Javier Monterrubio Martín 12/16/2015</center>*"
   ]
  },
  {
   "cell_type": "markdown",
   "metadata": {
    "collapsed": true
   },
   "source": [
    "# 1. Introduction\n",
    "\n",
    "The sinking of the RMS Titanic is one of the most infamous shipwrecks in history.  On April 15, 1912, during her maiden voyage, the Titanic sank after colliding with an iceberg, killing 1502 out of 2224 passengers and crew. This sensational tragedy shocked the international community and led to better safety regulations for ships.\n",
    "\n",
    "One of the reasons that the shipwreck led to such loss of life was that there were not enough lifeboats for the passengers and crew. Although there was some element of luck involved in surviving the sinking, some groups of people were more likely to survive than others, such as women, children, and the upper-class.\n",
    "\n",
    "## 1.1 About the dataset\n",
    "\n",
    "The dataset of study contains demographics and passenger information from 891 of the 2224 passengers and crew on board the Titanic. The variables included are:\n",
    "\n",
    "```\n",
    "survival        Survival\n",
    "                (0 = No; 1 = Yes)\n",
    "pclass          Passenger Class\n",
    "                (1 = 1st; 2 = 2nd; 3 = 3rd)\n",
    "name            Name\n",
    "sex             Sex\n",
    "age             Age\n",
    "sibsp           Number of Siblings/Spouses Aboard\n",
    "parch           Number of Parents/Children Aboard\n",
    "ticket          Ticket Number\n",
    "fare            Passenger Fare\n",
    "cabin           Cabin\n",
    "embarked        Port of Embarkation\n",
    "                (C = Cherbourg; Q = Queenstown; S = Southampton)\n",
    "\n",
    "SPECIAL NOTES:\n",
    "Pclass is a proxy for socio-economic status (SES)\n",
    " 1st ~ Upper; 2nd ~ Middle; 3rd ~ Lower\n",
    "\n",
    "Age is in Years; Fractional if Age less than One (1)\n",
    " If the Age is Estimated, it is in the form xx.5\n",
    "\n",
    "With respect to the family relation variables (i.e. sibsp and parch)\n",
    "some relations were ignored.  The following are the definitions used\n",
    "for sibsp and parch.\n",
    "\n",
    "Sibling:  Brother, Sister, Stepbrother, or Stepsister of Passenger Aboard Titanic\n",
    "Spouse:   Husband or Wife of Passenger Aboard Titanic (Mistresses and Fiances Ignored)\n",
    "Parent:   Mother or Father of Passenger Aboard Titanic\n",
    "Child:    Son, Daughter, Stepson, or Stepdaughter of Passenger Aboard Titanic\n",
    "\n",
    "Other family relatives excluded from this study include cousins,\n",
    "nephews/nieces, aunts/uncles, and in-laws.  Some children travelled\n",
    "only with a nanny, therefore parch=0 for them.  As well, some\n",
    "travelled with very close friends or neighbors in a village, however,\n",
    "the definitions do not support such relations.\n",
    "```"
   ]
  },
  {
   "cell_type": "markdown",
   "metadata": {},
   "source": [
    "# 2. Data Analysis\n",
    "\n",
    "## 2.1 Making questions\n",
    "\n",
    "In this analysis where are going to answer some questions and visualize them.\n",
    "\n",
    "   * It's true in this case the phrase 'women and children first'?\n",
    "   * Man with childs or spouse had more chances of survive?\n",
    "   * Comparation of survivors by class and gender.\n",
    "   * Had first class passengers more chances of survive?\n",
    "   * What is the best age for survive?\n",
    "   \n",
    "## 2.2 Investigating data\n",
    "\n",
    "First of all lets explore the dataset in order to find surprising data points and fix any problems there could be."
   ]
  },
  {
   "cell_type": "code",
   "execution_count": 44,
   "metadata": {
    "collapsed": false
   },
   "outputs": [
    {
     "data": {
      "text/html": [
       "<div>\n",
       "<table border=\"1\" class=\"dataframe\">\n",
       "  <thead>\n",
       "    <tr style=\"text-align: right;\">\n",
       "      <th></th>\n",
       "      <th>PassengerId</th>\n",
       "      <th>Survived</th>\n",
       "      <th>Pclass</th>\n",
       "      <th>Name</th>\n",
       "      <th>Sex</th>\n",
       "      <th>Age</th>\n",
       "      <th>SibSp</th>\n",
       "      <th>Parch</th>\n",
       "      <th>Ticket</th>\n",
       "      <th>Fare</th>\n",
       "      <th>Cabin</th>\n",
       "      <th>Embarked</th>\n",
       "    </tr>\n",
       "  </thead>\n",
       "  <tbody>\n",
       "    <tr>\n",
       "      <th>0</th>\n",
       "      <td>1</td>\n",
       "      <td>0</td>\n",
       "      <td>3</td>\n",
       "      <td>Braund, Mr. Owen Harris</td>\n",
       "      <td>male</td>\n",
       "      <td>22</td>\n",
       "      <td>1</td>\n",
       "      <td>0</td>\n",
       "      <td>A/5 21171</td>\n",
       "      <td>7.2500</td>\n",
       "      <td>NaN</td>\n",
       "      <td>S</td>\n",
       "    </tr>\n",
       "    <tr>\n",
       "      <th>1</th>\n",
       "      <td>2</td>\n",
       "      <td>1</td>\n",
       "      <td>1</td>\n",
       "      <td>Cumings, Mrs. John Bradley (Florence Briggs Th...</td>\n",
       "      <td>female</td>\n",
       "      <td>38</td>\n",
       "      <td>1</td>\n",
       "      <td>0</td>\n",
       "      <td>PC 17599</td>\n",
       "      <td>71.2833</td>\n",
       "      <td>C85</td>\n",
       "      <td>C</td>\n",
       "    </tr>\n",
       "    <tr>\n",
       "      <th>2</th>\n",
       "      <td>3</td>\n",
       "      <td>1</td>\n",
       "      <td>3</td>\n",
       "      <td>Heikkinen, Miss. Laina</td>\n",
       "      <td>female</td>\n",
       "      <td>26</td>\n",
       "      <td>0</td>\n",
       "      <td>0</td>\n",
       "      <td>STON/O2. 3101282</td>\n",
       "      <td>7.9250</td>\n",
       "      <td>NaN</td>\n",
       "      <td>S</td>\n",
       "    </tr>\n",
       "    <tr>\n",
       "      <th>3</th>\n",
       "      <td>4</td>\n",
       "      <td>1</td>\n",
       "      <td>1</td>\n",
       "      <td>Futrelle, Mrs. Jacques Heath (Lily May Peel)</td>\n",
       "      <td>female</td>\n",
       "      <td>35</td>\n",
       "      <td>1</td>\n",
       "      <td>0</td>\n",
       "      <td>113803</td>\n",
       "      <td>53.1000</td>\n",
       "      <td>C123</td>\n",
       "      <td>S</td>\n",
       "    </tr>\n",
       "    <tr>\n",
       "      <th>4</th>\n",
       "      <td>5</td>\n",
       "      <td>0</td>\n",
       "      <td>3</td>\n",
       "      <td>Allen, Mr. William Henry</td>\n",
       "      <td>male</td>\n",
       "      <td>35</td>\n",
       "      <td>0</td>\n",
       "      <td>0</td>\n",
       "      <td>373450</td>\n",
       "      <td>8.0500</td>\n",
       "      <td>NaN</td>\n",
       "      <td>S</td>\n",
       "    </tr>\n",
       "  </tbody>\n",
       "</table>\n",
       "</div>"
      ],
      "text/plain": [
       "   PassengerId  Survived  Pclass  \\\n",
       "0            1         0       3   \n",
       "1            2         1       1   \n",
       "2            3         1       3   \n",
       "3            4         1       1   \n",
       "4            5         0       3   \n",
       "\n",
       "                                                Name     Sex  Age  SibSp  \\\n",
       "0                            Braund, Mr. Owen Harris    male   22      1   \n",
       "1  Cumings, Mrs. John Bradley (Florence Briggs Th...  female   38      1   \n",
       "2                             Heikkinen, Miss. Laina  female   26      0   \n",
       "3       Futrelle, Mrs. Jacques Heath (Lily May Peel)  female   35      1   \n",
       "4                           Allen, Mr. William Henry    male   35      0   \n",
       "\n",
       "   Parch            Ticket     Fare Cabin Embarked  \n",
       "0      0         A/5 21171   7.2500   NaN        S  \n",
       "1      0          PC 17599  71.2833   C85        C  \n",
       "2      0  STON/O2. 3101282   7.9250   NaN        S  \n",
       "3      0            113803  53.1000  C123        S  \n",
       "4      0            373450   8.0500   NaN        S  "
      ]
     },
     "execution_count": 44,
     "metadata": {},
     "output_type": "execute_result"
    }
   ],
   "source": [
    "import pandas as pd\n",
    "import numpy as np\n",
    "\n",
    "titanic_df = pd.read_csv(\"titanic_data.csv\")\n",
    "titanic_df.head()\n"
   ]
  },
  {
   "cell_type": "markdown",
   "metadata": {},
   "source": [
    "To answer the questions we won't need all the given fields so to clean and prepare the data (if needed) we are going to take just *Survived, Name, Pclass, Sex, Age, SibSp and Parch*."
   ]
  },
  {
   "cell_type": "code",
   "execution_count": 45,
   "metadata": {
    "collapsed": false
   },
   "outputs": [
    {
     "data": {
      "text/html": [
       "<div>\n",
       "<table border=\"1\" class=\"dataframe\">\n",
       "  <thead>\n",
       "    <tr style=\"text-align: right;\">\n",
       "      <th></th>\n",
       "      <th>Survived</th>\n",
       "      <th>Name</th>\n",
       "      <th>Pclass</th>\n",
       "      <th>Sex</th>\n",
       "      <th>Age</th>\n",
       "      <th>SibSp</th>\n",
       "      <th>Parch</th>\n",
       "    </tr>\n",
       "  </thead>\n",
       "  <tbody>\n",
       "    <tr>\n",
       "      <th>count</th>\n",
       "      <td>891.000000</td>\n",
       "      <td>891</td>\n",
       "      <td>891.000000</td>\n",
       "      <td>891</td>\n",
       "      <td>714.000000</td>\n",
       "      <td>891.000000</td>\n",
       "      <td>891.000000</td>\n",
       "    </tr>\n",
       "    <tr>\n",
       "      <th>unique</th>\n",
       "      <td>NaN</td>\n",
       "      <td>891</td>\n",
       "      <td>NaN</td>\n",
       "      <td>2</td>\n",
       "      <td>NaN</td>\n",
       "      <td>NaN</td>\n",
       "      <td>NaN</td>\n",
       "    </tr>\n",
       "    <tr>\n",
       "      <th>top</th>\n",
       "      <td>NaN</td>\n",
       "      <td>Graham, Mr. George Edward</td>\n",
       "      <td>NaN</td>\n",
       "      <td>male</td>\n",
       "      <td>NaN</td>\n",
       "      <td>NaN</td>\n",
       "      <td>NaN</td>\n",
       "    </tr>\n",
       "    <tr>\n",
       "      <th>freq</th>\n",
       "      <td>NaN</td>\n",
       "      <td>1</td>\n",
       "      <td>NaN</td>\n",
       "      <td>577</td>\n",
       "      <td>NaN</td>\n",
       "      <td>NaN</td>\n",
       "      <td>NaN</td>\n",
       "    </tr>\n",
       "    <tr>\n",
       "      <th>mean</th>\n",
       "      <td>0.383838</td>\n",
       "      <td>NaN</td>\n",
       "      <td>2.308642</td>\n",
       "      <td>NaN</td>\n",
       "      <td>29.699118</td>\n",
       "      <td>0.523008</td>\n",
       "      <td>0.381594</td>\n",
       "    </tr>\n",
       "    <tr>\n",
       "      <th>std</th>\n",
       "      <td>0.486592</td>\n",
       "      <td>NaN</td>\n",
       "      <td>0.836071</td>\n",
       "      <td>NaN</td>\n",
       "      <td>14.526497</td>\n",
       "      <td>1.102743</td>\n",
       "      <td>0.806057</td>\n",
       "    </tr>\n",
       "    <tr>\n",
       "      <th>min</th>\n",
       "      <td>0.000000</td>\n",
       "      <td>NaN</td>\n",
       "      <td>1.000000</td>\n",
       "      <td>NaN</td>\n",
       "      <td>0.420000</td>\n",
       "      <td>0.000000</td>\n",
       "      <td>0.000000</td>\n",
       "    </tr>\n",
       "    <tr>\n",
       "      <th>25%</th>\n",
       "      <td>0.000000</td>\n",
       "      <td>NaN</td>\n",
       "      <td>2.000000</td>\n",
       "      <td>NaN</td>\n",
       "      <td>20.125000</td>\n",
       "      <td>0.000000</td>\n",
       "      <td>0.000000</td>\n",
       "    </tr>\n",
       "    <tr>\n",
       "      <th>50%</th>\n",
       "      <td>0.000000</td>\n",
       "      <td>NaN</td>\n",
       "      <td>3.000000</td>\n",
       "      <td>NaN</td>\n",
       "      <td>28.000000</td>\n",
       "      <td>0.000000</td>\n",
       "      <td>0.000000</td>\n",
       "    </tr>\n",
       "    <tr>\n",
       "      <th>75%</th>\n",
       "      <td>1.000000</td>\n",
       "      <td>NaN</td>\n",
       "      <td>3.000000</td>\n",
       "      <td>NaN</td>\n",
       "      <td>38.000000</td>\n",
       "      <td>1.000000</td>\n",
       "      <td>0.000000</td>\n",
       "    </tr>\n",
       "    <tr>\n",
       "      <th>max</th>\n",
       "      <td>1.000000</td>\n",
       "      <td>NaN</td>\n",
       "      <td>3.000000</td>\n",
       "      <td>NaN</td>\n",
       "      <td>80.000000</td>\n",
       "      <td>8.000000</td>\n",
       "      <td>6.000000</td>\n",
       "    </tr>\n",
       "  </tbody>\n",
       "</table>\n",
       "</div>"
      ],
      "text/plain": [
       "          Survived                       Name      Pclass   Sex         Age  \\\n",
       "count   891.000000                        891  891.000000   891  714.000000   \n",
       "unique         NaN                        891         NaN     2         NaN   \n",
       "top            NaN  Graham, Mr. George Edward         NaN  male         NaN   \n",
       "freq           NaN                          1         NaN   577         NaN   \n",
       "mean      0.383838                        NaN    2.308642   NaN   29.699118   \n",
       "std       0.486592                        NaN    0.836071   NaN   14.526497   \n",
       "min       0.000000                        NaN    1.000000   NaN    0.420000   \n",
       "25%       0.000000                        NaN    2.000000   NaN   20.125000   \n",
       "50%       0.000000                        NaN    3.000000   NaN   28.000000   \n",
       "75%       1.000000                        NaN    3.000000   NaN   38.000000   \n",
       "max       1.000000                        NaN    3.000000   NaN   80.000000   \n",
       "\n",
       "             SibSp       Parch  \n",
       "count   891.000000  891.000000  \n",
       "unique         NaN         NaN  \n",
       "top            NaN         NaN  \n",
       "freq           NaN         NaN  \n",
       "mean      0.523008    0.381594  \n",
       "std       1.102743    0.806057  \n",
       "min       0.000000    0.000000  \n",
       "25%       0.000000    0.000000  \n",
       "50%       0.000000    0.000000  \n",
       "75%       1.000000    0.000000  \n",
       "max       8.000000    6.000000  "
      ]
     },
     "execution_count": 45,
     "metadata": {},
     "output_type": "execute_result"
    }
   ],
   "source": [
    "titanic_df = titanic_df[[\"Survived\", \"Name\", \"Pclass\", \"Sex\", \"Age\", \"SibSp\", \"Parch\"]]\n",
    "titanic_df.describe(include=\"all\")"
   ]
  },
  {
   "cell_type": "markdown",
   "metadata": {},
   "source": [
    "Five of the seven selected field are numeric so the *describe* function shows a better summary of them. We can't see anything strange except some missing values in the age field (714/891)."
   ]
  },
  {
   "cell_type": "code",
   "execution_count": 46,
   "metadata": {
    "collapsed": false
   },
   "outputs": [
    {
     "name": "stdout",
     "output_type": "stream",
     "text": [
      "male      577\n",
      "female    314\n",
      "Name: Sex, dtype: int64\n"
     ]
    }
   ],
   "source": [
    "print titanic_df[\"Sex\"].value_counts()"
   ]
  },
  {
   "cell_type": "markdown",
   "metadata": {},
   "source": [
    "So the main problem resides in the missing values of the *age* field. In this case we decided to made a listwise deletion because it doesn't make sense to impute the ages neither with the average or using linear regression.  "
   ]
  },
  {
   "cell_type": "code",
   "execution_count": 47,
   "metadata": {
    "collapsed": false
   },
   "outputs": [
    {
     "data": {
      "text/plain": [
       "714"
      ]
     },
     "execution_count": 47,
     "metadata": {},
     "output_type": "execute_result"
    }
   ],
   "source": [
    "titanic_df = titanic_df[titanic_df[\"Age\"].notnull()]\n",
    "len(titanic_df)"
   ]
  },
  {
   "cell_type": "markdown",
   "metadata": {},
   "source": [
    "## 2.3 Answering questions\n",
    "\n",
    "### 2.3.1 It's true in this case the phrase 'women and children first'?\n",
    "\n",
    "The easiest way to answer this question is to show a plot of how the survivors are distributed depending on age and sex. To know if the passenger is a child or not, we're going to add a column *IsChild* with values 0 if age is greather than 18 and 1 if it's less than or equal 18."
   ]
  },
  {
   "cell_type": "code",
   "execution_count": 48,
   "metadata": {
    "collapsed": false
   },
   "outputs": [],
   "source": [
    "def isChild(x):\n",
    "    if x > 18:\n",
    "        return 0\n",
    "    else:\n",
    "        return 1\n",
    "titanic_df[\"IsChild\"] = pd.Series(titanic_df[\"Age\"].apply(isChild), index=titanic_df.index)\n"
   ]
  },
  {
   "cell_type": "code",
   "execution_count": 49,
   "metadata": {
    "collapsed": false
   },
   "outputs": [
    {
     "data": {
      "image/png": "[encoded data removed]",
      "text/plain": [
       "<matplotlib.figure.Figure at 0x7f3b9cc5d5d0>"
      ]
     },
     "metadata": {},
     "output_type": "display_data"
    },
    {
     "data": {
      "image/png": "[encoded data removed]",
      "text/plain": [
       "<matplotlib.figure.Figure at 0x7f3b97020a10>"
      ]
     },
     "metadata": {},
     "output_type": "display_data"
    }
   ],
   "source": [
    "import seaborn as sns\n",
    "import matplotlib.pyplot as plt\n",
    "%matplotlib inline\n",
    "\n",
    "sns.set(style=\"darkgrid\")\n",
    "sns.barplot(data=titanic_df,x=\"Sex\",y=\"Survived\", palette=\"GnBu_d\")\n",
    "sns.plt.show()\n",
    "sns.barplot(data=titanic_df,x=\"IsChild\",y=\"Survived\", palette=\"GnBu_d\")\n",
    "sns.plt.show()"
   ]
  },
  {
   "cell_type": "markdown",
   "metadata": {},
   "source": [
    "As we can see in these plots, the probability of survive is much bigger in women than in men and quite big in childs than in adults. So we can confirm in this case it was true that *women and children first*."
   ]
  },
  {
   "cell_type": "code",
   "execution_count": 50,
   "metadata": {
    "collapsed": false
   },
   "outputs": [
    {
     "data": {
      "image/png": "[encoded data removed]",
      "text/plain": [
       "<matplotlib.figure.Figure at 0x7f3b9643c410>"
      ]
     },
     "metadata": {},
     "output_type": "display_data"
    }
   ],
   "source": [
    "sns.barplot(data=titanic_df, x=\"Sex\", y=\"Survived\", hue=\"IsChild\", palette=\"GnBu_d\")\n",
    "sns.plt.show()"
   ]
  },
  {
   "cell_type": "markdown",
   "metadata": {},
   "source": [
    "By last and in spite of this affirmation, we see that female childs had less survive mean than aduls ones. "
   ]
  },
  {
   "cell_type": "markdown",
   "metadata": {},
   "source": [
    "### 2.3.2 Man with childs or spouse had more chances of survive?\n",
    "\n",
    "To answer this question were are going to create a new categorized field *FamilyMan* with value 3 values depending if he is Single, Husband, or Father(husband with kids). We have to know that in this case we are going to work with a subset of males that are not child. Once we have just adult men subset, we can't know if he had spouse or sibling so we asume *SibSp* field refers to spouse."
   ]
  },
  {
   "cell_type": "code",
   "execution_count": 51,
   "metadata": {
    "collapsed": false
   },
   "outputs": [
    {
     "name": "stdout",
     "output_type": "stream",
     "text": [
      "Single     299\n",
      "Husband     59\n",
      "Father      24\n",
      "Name: FamilyMan, dtype: int64\n"
     ]
    }
   ],
   "source": [
    "import warnings\n",
    "warnings.filterwarnings('ignore')\n",
    "\n",
    "def isAdultMan(x):\n",
    "    return x[\"IsChild\"] == 0 and x[\"Sex\"] == \"male\"\n",
    "\n",
    "man_titanic_df = titanic_df[titanic_df.apply(isAdultMan, axis=1)]\n",
    "\n",
    "def isFamilyMan(x):\n",
    "    if x[\"SibSp\"] > 0:\n",
    "        if x[\"Parch\"] > 0:\n",
    "            return \"Father\"\n",
    "        else:\n",
    "            return \"Husband\"\n",
    "    else:\n",
    "        return \"Single\"\n",
    "man_titanic_df[\"FamilyMan\"] = pd.Series(man_titanic_df.apply(isFamilyMan, axis=1), index=man_titanic_df.index)\n",
    "print man_titanic_df[\"FamilyMan\"].value_counts()"
   ]
  },
  {
   "cell_type": "code",
   "execution_count": 52,
   "metadata": {
    "collapsed": false
   },
   "outputs": [
    {
     "data": {
      "image/png": "[encoded data removed]",
      "text/plain": [
       "<matplotlib.figure.Figure at 0x7f3b96d5be10>"
      ]
     },
     "metadata": {},
     "output_type": "display_data"
    }
   ],
   "source": [
    "sns.factorplot(data=man_titanic_df,x=\"Survived\", col=\"FamilyMan\", kind=\"count\",palette=\"GnBu_d\")\n",
    "sns.plt.show()"
   ]
  },
  {
   "cell_type": "code",
   "execution_count": 53,
   "metadata": {
    "collapsed": false
   },
   "outputs": [
    {
     "name": "stdout",
     "output_type": "stream",
     "text": [
      "Percent of Husbands survived: 23.7288135593\n",
      "Percent of Singles survived: 17.0568561873\n",
      "Percent of Fathers survived: 16.6666666667\n"
     ]
    }
   ],
   "source": [
    "def percentSurvived(x, type):\n",
    "    sub = x[x[\"FamilyMan\"] == type]\n",
    "    total = len(sub)\n",
    "    survived = sum(sub[\"Survived\"] == 1)\n",
    "    return float(survived)/total * 100\n",
    "\n",
    "print \"Percent of Husbands survived:\", percentSurvived(man_titanic_df,\"Husband\")\n",
    "print \"Percent of Singles survived:\", percentSurvived(man_titanic_df,\"Single\")\n",
    "print \"Percent of Fathers survived:\", percentSurvived(man_titanic_df,\"Father\")"
   ]
  },
  {
   "cell_type": "markdown",
   "metadata": {},
   "source": [
    "We can appreciate a difference in the percent of survived husbands."
   ]
  },
  {
   "cell_type": "markdown",
   "metadata": {},
   "source": [
    "### 2.3.3 Comparation of survivors by class and gender\n",
    "\n",
    "In this point we are going to plot the three fields join and see what can we conclude."
   ]
  },
  {
   "cell_type": "code",
   "execution_count": 54,
   "metadata": {
    "collapsed": false
   },
   "outputs": [
    {
     "data": {
      "image/png": "[encoded data removed]",
      "text/plain": [
       "<matplotlib.figure.Figure at 0x7f3b9cdae550>"
      ]
     },
     "metadata": {},
     "output_type": "display_data"
    }
   ],
   "source": [
    "sns.barplot(data=titanic_df, x=\"Sex\", y=\"Survived\", hue=\"Pclass\", palette=\"GnBu_d\")\n",
    "sns.plt.show()"
   ]
  },
  {
   "cell_type": "markdown",
   "metadata": {},
   "source": [
    "Here we appreciate various things. First of all the difference in survive mean of men vs women, something we noticed in the question **2.3.1**. Another thing is the difference in classes. Survived women in first and second classes doubles the mean of third class. But in case of men, just the first class have difference in survived mean. "
   ]
  },
  {
   "cell_type": "markdown",
   "metadata": {},
   "source": [
    "### 2.3.4 Had first class passengers more chances of survive?\n",
    "\n",
    "As we can see in the previous point, there is a significative difference in survived means. Lets see it without sex comparation."
   ]
  },
  {
   "cell_type": "code",
   "execution_count": 55,
   "metadata": {
    "collapsed": false
   },
   "outputs": [
    {
     "data": {
      "image/png": "[encoded data removed]",
      "text/plain": [
       "<matplotlib.figure.Figure at 0x7f3b96da8750>"
      ]
     },
     "metadata": {},
     "output_type": "display_data"
    }
   ],
   "source": [
    "sns.barplot(data=titanic_df, x=\"Pclass\", y=\"Survived\", palette=\"GnBu_d\")\n",
    "sns.plt.show()"
   ]
  },
  {
   "cell_type": "markdown",
   "metadata": {},
   "source": [
    "The plot speaks for itself. First class passengers had more chances of survive than second class and a lot more than third class."
   ]
  },
  {
   "cell_type": "markdown",
   "metadata": {},
   "source": [
    "### 2.3.5 What is the best age to survive?\n",
    "\n",
    "First lets take a look of how survivors are distributed by age."
   ]
  },
  {
   "cell_type": "code",
   "execution_count": 56,
   "metadata": {
    "collapsed": false
   },
   "outputs": [
    {
     "data": {
      "image/png": "[encoded data removed]",
      "text/plain": [
       "<matplotlib.figure.Figure at 0x7f3b97296550>"
      ]
     },
     "metadata": {},
     "output_type": "display_data"
    }
   ],
   "source": [
    "survivors_ages = titanic_df[titanic_df[\"Survived\"] == 1][\"Age\"]\n",
    "ax = sns.distplot(survivors_ages)\n",
    "ax.set(xlabel='Age', ylabel='Percent Survivors')\n",
    "sns.plt.show()"
   ]
  },
  {
   "cell_type": "markdown",
   "metadata": {},
   "source": [
    "In this plot we can see that most of the survivors had an age from 20 to 40 but, what happens if we compare also not survivors?"
   ]
  },
  {
   "cell_type": "code",
   "execution_count": 57,
   "metadata": {
    "collapsed": false
   },
   "outputs": [
    {
     "data": {
      "image/png": "[encoded data removed]",
      "text/plain": [
       "<matplotlib.figure.Figure at 0x7f3b96e3d610>"
      ]
     },
     "metadata": {},
     "output_type": "display_data"
    }
   ],
   "source": [
    "sns.jointplot(\"Age\", \"Survived\", data=titanic_df,\n",
    "                   kind=\"kde\", space=0, color=\"b\")\n",
    "sns.plt.show()"
   ]
  },
  {
   "cell_type": "markdown",
   "metadata": {},
   "source": [
    "We see that also there not survivors mostly had between 20 and 40 years old. So, how can we know the best age to survive? We are going to calculate the percentage of survivors for each age."
   ]
  },
  {
   "cell_type": "code",
   "execution_count": 58,
   "metadata": {
    "collapsed": false
   },
   "outputs": [
    {
     "data": {
      "text/plain": [
       "<matplotlib.axes._subplots.AxesSubplot at 0x7f3b96ebb650>"
      ]
     },
     "execution_count": 58,
     "metadata": {},
     "output_type": "execute_result"
    },
    {
     "data": {
      "image/png": "[encoded data removed]",
      "text/plain": [
       "<matplotlib.figure.Figure at 0x7f3b97257350>"
      ]
     },
     "metadata": {},
     "output_type": "display_data"
    }
   ],
   "source": [
    "max_age = int(titanic_df[\"Age\"].max())\n",
    "age_dist = pd.DataFrame(index=xrange(max_age),columns=[\"Survived\", \"NotSurvived\"])\n",
    "age_dist = age_dist.fillna(0)\n",
    "for age in age_dist.index:\n",
    "    age_survive = titanic_df[titanic_df[\"Age\"].astype(int) == age][\"Survived\"]\n",
    "    age_dist.loc[age, \"NotSurvived\"] = sum(age_survive == 0)\n",
    "    age_dist.loc[age, \"Survived\"] = sum(age_survive == 1)\n",
    "\n",
    "survived_proportions = age_dist.Survived / age_dist.sum(axis=\"columns\")\n",
    "survived_proportions = survived_proportions.fillna(0)\n",
    "survived_proportions.index.name = \"Age\"\n",
    "survived_proportions.name = \"Percent survivors\"\n",
    "survived_proportions.plot(kind=\"bar\", figsize=(20,4),legend=True)"
   ]
  },
  {
   "cell_type": "markdown",
   "metadata": {},
   "source": [
    "This plot shows the percentage of survived person by age. We see that there are some ages with 100% of survivors. These are 0, 5, 12, 13, 53 and 63 years old. But if we have to choose one, lets take the one who most survivors have."
   ]
  },
  {
   "cell_type": "code",
   "execution_count": 59,
   "metadata": {
    "collapsed": false
   },
   "outputs": [
    {
     "name": "stdout",
     "output_type": "stream",
     "text": [
      "Maximum number of survived passengers:  7\n",
      "Best survive age:  0\n"
     ]
    }
   ],
   "source": [
    "print \"Maximum number of survived passengers: \", age_dist.loc[[0, 5, 12, 13, 53, 63]].Survived.max()\n",
    "print \"Best survive age: \", age_dist.loc[[0,5, 12, 13, 53, 63]].Survived.idxmax()"
   ]
  },
  {
   "cell_type": "markdown",
   "metadata": {},
   "source": [
    "## 3. Conclusions\n",
    "\n",
    "In the previous answers, we've assumed there is no difference between proportions for each sample. But what happens if this is not true? There is a way to know if this difference is significant and therefore the conclusion given in the answers may not be true. With a two-proportion z-test we can determine wether the difference between two proportions is significant.\n",
    "\n",
    "So in the first question, *It's true in this case the phrase 'women and children first'?*, we saw that survivors mean was higher in female than in male and also the same in childs agains adults.\n",
    "\n",
    "Lest conduct a hypothesis test to see if there is a significant difference between proportions. In first place, male and female:\n",
    "\n",
    "$$H_{0} : P_{male} - P_{female} = 0$$ $$H_{A} : P_{male} - P_{female} \\neq 0$$"
   ]
  },
  {
   "cell_type": "code",
   "execution_count": 60,
   "metadata": {
    "collapsed": false
   },
   "outputs": [
    {
     "name": "stdout",
     "output_type": "stream",
     "text": [
      "total people : 714\n",
      "males : 453\n",
      "females : 261\n"
     ]
    }
   ],
   "source": [
    "male = titanic_df[titanic_df[\"Sex\"]== \"male\"]\n",
    "female = titanic_df[titanic_df[\"Sex\"]== \"female\"]\n",
    "total_people = len(male) + len(female)\n",
    "print \"total people :\", total_people\n",
    "print \"males :\", len(male)\n",
    "print \"females :\", len(female)"
   ]
  },
  {
   "cell_type": "markdown",
   "metadata": {},
   "source": [
    "To be able to perform the test, these four counditions need to be met:\n",
    "    \n",
    "   * The sampling method for each population is simple random sampling.\n",
    "   * The samples are independent.\n",
    "   * Each sample includes at least 10 successes and 10 failures.\n",
    "   * Each population is at least 20 times as big as its sample.\n",
    "   \n",
    "And in this case not all the conditions are true, the population is not 20 times bigger, but we are going to assume it's enough.\n",
    "\n",
    "So lets continue the test, using the **two-proportion z-test** and a significance level ** $\\alpha = 0.05 $ **\n",
    "\n",
    "**Pooled sample proportion**:\n",
    "$$p = \\frac{p_{male} * n_{male} + p_{female} * n_{female}}{n_{male} + n_{female}}$$\n",
    "**Standard error**:\n",
    "$$SE = \\sqrt{p * (1-p) * (\\frac{1}{n_{male}} + \\frac{1}{n_{female}})}$$\n",
    "**Test statistic**:\n",
    "$$z = \\frac{p_{male} - p_{female}}{SE}$$\n"
   ]
  },
  {
   "cell_type": "code",
   "execution_count": 61,
   "metadata": {
    "collapsed": false
   },
   "outputs": [
    {
     "name": "stdout",
     "output_type": "stream",
     "text": [
      "p : 0.406162464986\n",
      "SE :  0.0381648418165\n",
      "z : -14.3978392843\n"
     ]
    }
   ],
   "source": [
    "import math\n",
    "p_male = float(len(male[male[\"Survived\"] == 1])) / len(male)\n",
    "p_female = float(len(female[female[\"Survived\"] == 1])) / len(female)\n",
    "p = (p_male * len(male) + p_female * len(female)) / total_people\n",
    "print \"p :\", p\n",
    "SE = math.sqrt(p * ( 1 - p ) * ( float(1)/len(male) + float(1)/len(female) ))\n",
    "print \"SE : \", SE\n",
    "z = (p_male - p_female) / SE\n",
    "print \"z :\", z"
   ]
  },
  {
   "cell_type": "markdown",
   "metadata": {},
   "source": [
    "Given that z-score, the P-value is going to be very very small (smaller than our significance level 0.05). So we can consider reject the null hypothesis and say that in this scenario there is a significant difference between proportions.\n",
    "\n",
    "Doing the same with child/adult scenario, values are:"
   ]
  },
  {
   "cell_type": "code",
   "execution_count": 62,
   "metadata": {
    "collapsed": false
   },
   "outputs": [
    {
     "name": "stdout",
     "output_type": "stream",
     "text": [
      "total people : 714\n",
      "childs : 139\n",
      "adults : 575\n",
      "p : 0.406162464986\n",
      "SE :  0.0464185423935\n",
      "z : 2.60646759703\n"
     ]
    }
   ],
   "source": [
    "child = titanic_df[titanic_df[\"IsChild\"]== 1]\n",
    "adult = titanic_df[titanic_df[\"IsChild\"]== 0]\n",
    "print \"total people :\", total_people\n",
    "print \"childs :\", len(child)\n",
    "print \"adults :\", len(adult)\n",
    "p_child = float(len(child[child[\"Survived\"] == 1])) / len(child)\n",
    "p_adult = float(len(adult[adult[\"Survived\"] == 1])) / len(adult)\n",
    "p = (p_child * len(child) + p_adult * len(adult)) / total_people\n",
    "print \"p :\", p\n",
    "SE = math.sqrt(p * ( 1 - p ) * ( float(1)/len(child) + float(1)/len(adult) ))\n",
    "print \"SE : \", SE\n",
    "z = (p_child - p_adult) / SE\n",
    "print \"z :\", z"
   ]
  },
  {
   "cell_type": "markdown",
   "metadata": {},
   "source": [
    "And the P-value for P(z > 2.606) = 0.0039 in a two-tailed test is 0.0039 + 0.0039. So **P-value = 0.0078**, smaller than 0.05 and again the difference between proportions are significant.\n",
    "\n",
    "You can see that this same test can be done with many other answers (all where proportions are compared).\n",
    "\n",
    "The main conclusion about these questions is that the data set is not a good sample to perform some analysis and made conclusions about the population."
   ]
  },
  {
   "cell_type": "markdown",
   "metadata": {},
   "source": [
    "## Appendix A\n",
    "\n",
    "### Sources\n",
    "\n",
    "The list of sources used to complete this investigation is:\n",
    "\n",
    "   * Titanic dataset provided by Udacity (Data Analyst Nanodegree Project 2)\n",
    "   * Video lectures of the course (Intro to Data Analysis)\n",
    "   * Kaggle titanic competition page (https://www.kaggle.com/c/titanic)\n",
    "   * Seaborn statistical data visualization reference page (http://stanford.edu/~mwaskom/software/seaborn/)\n",
    "   * Pandas documentation (http://pandas.pydata.org/pandas-docs/stable/#)\n",
    "   * Test statistics for difference between proportions (http://stattrek.com/hypothesis-test/difference-in-proportions.aspx)\n",
    "   "
   ]
  }
 ],
 "metadata": {
  "kernelspec": {
   "display_name": "Python 2",
   "language": "python",
   "name": "python2"
  },
  "language_info": {
   "codemirror_mode": {
    "name": "ipython",
    "version": 2
   },
   "file_extension": ".py",
   "mimetype": "text/x-python",
   "name": "python",
   "nbconvert_exporter": "python",
   "pygments_lexer": "ipython2",
   "version": "2.7.10"
  }
 },
 "nbformat": 4,
 "nbformat_minor": 0
}
